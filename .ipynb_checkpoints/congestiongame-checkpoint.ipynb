{
 "cells": [
  {
   "cell_type": "code",
   "execution_count": 2,
   "metadata": {},
   "outputs": [],
   "source": [
    "import networkx as nx\n",
    "import numpy as np\n",
    "from pyvis.network import Network\n",
    "import random\n",
    "from collections import defaultdict\n",
    "from scipy.optimize import linprog"
   ]
  },
  {
   "cell_type": "code",
   "execution_count": 279,
   "metadata": {},
   "outputs": [],
   "source": [
    "def make_dag(n, p):\n",
    "    G = nx.erdos_renyi_graph(n, p, directed=True) # binomial distribution, connected\n",
    "    \n",
    "    DAG = nx.DiGraph([(u, v,) for (u, v) in G.edges() if u < v])\n",
    "    \n",
    "    # make sure that every node can get to sink\n",
    "    ancestors = nx.ancestors(DAG,n-1)\n",
    "    if len(ancestors) != n-1:\n",
    "        not_ancestors = set(range(0,n-1)) - ancestors\n",
    "        for i in not_ancestors:\n",
    "            found = False\n",
    "            for j in range(i, n-1):\n",
    "                if j in ancestors:\n",
    "                    DAG.add_edge(i, j)\n",
    "                    found = True\n",
    "                    break\n",
    "            if not found:\n",
    "                DAG.add_edge(i, n-1)\n",
    "    for (u,v,w) in DAG.edges(data=True):\n",
    "        w['weight'] = random.randint(0,10)\n",
    "    return DAG\n",
    "\n",
    "n = 8 # nth node is also sink node since everything leads to it\n",
    "graph = make_dag(n, 0.4)\n",
    "\n",
    "longest_path = nx.dag_longest_path(graph)\n",
    "longest_path_len = len(longest_path)"
   ]
  },
  {
   "cell_type": "code",
   "execution_count": 274,
   "metadata": {},
   "outputs": [
    {
     "data": {
      "text/html": [
       "\n",
       "        <iframe\n",
       "            width=\"500px\"\n",
       "            height=\"500px\"\n",
       "            src=\"asdf.html\"\n",
       "            frameborder=\"0\"\n",
       "            allowfullscreen\n",
       "            \n",
       "        ></iframe>\n",
       "        "
      ],
      "text/plain": [
       "<IPython.lib.display.IFrame at 0x11d5d9520>"
      ]
     },
     "execution_count": 274,
     "metadata": {},
     "output_type": "execute_result"
    }
   ],
   "source": [
    "net = Network(notebook=True, directed=True)\n",
    "net.from_nx(graph)\n",
    "net.show('asdf.html')"
   ]
  },
  {
   "cell_type": "code",
   "execution_count": 313,
   "metadata": {},
   "outputs": [
    {
     "name": "stdout",
     "output_type": "stream",
     "text": [
      "{0}: {1} 0 0\n",
      "{0}: {1} 1 1\n",
      "{0}: {1} 2 6\n",
      "{0}: {1} 3 2\n",
      "{0}: {1} 4 0\n",
      "{0}: {1} 5 0\n",
      "{0}: {1} 6 0\n",
      "{0}: {1} 7 0\n",
      "{0}: {1} 8 2\n",
      "{0}: {1} 9 2\n",
      "timestep start\n",
      "agent 0 moving from 0 to 1 with weight 2 with 2 others\n",
      "agent 1 moving from 1 to 5 with weight 2 with 1 others\n",
      "agent 2 moving from 6 to 7 with weight 7 with 1 others\n",
      "agent 3 moving from 2 to 4 with weight 7 with 3 others\n",
      "agent 4 moving from 0 to 2 with weight 7 with 3 others\n",
      "agent 5 moving from 0 to 1 with weight 2 with 2 others\n",
      "agent 6 moving from 0 to 2 with weight 7 with 3 others\n",
      "agent 7 moving from 0 to 2 with weight 7 with 3 others\n",
      "agent 8 moving from 2 to 4 with weight 7 with 3 others\n",
      "agent 9 moving from 2 to 4 with weight 7 with 3 others\n",
      "timestep start\n",
      "agent 0 moving from 1 to 7 with weight 9 with 2 others\n",
      "agent 1 moving from 5 to 7 with weight 5 with 1 others\n",
      "agent 3 moving from 4 to 7 with weight 8 with 3 others\n",
      "agent 4 moving from 2 to 4 with weight 7 with 3 others\n",
      "agent 5 moving from 1 to 7 with weight 9 with 2 others\n",
      "agent 6 moving from 2 to 4 with weight 7 with 3 others\n",
      "agent 7 moving from 2 to 4 with weight 7 with 3 others\n",
      "agent 8 moving from 4 to 7 with weight 8 with 3 others\n",
      "agent 9 moving from 4 to 7 with weight 8 with 3 others\n",
      "timestep start\n",
      "agent 4 moving from 4 to 7 with weight 8 with 3 others\n",
      "agent 6 moving from 4 to 7 with weight 8 with 3 others\n",
      "agent 7 moving from 4 to 7 with weight 8 with 3 others\n",
      "cost is  391\n"
     ]
    },
    {
     "data": {
      "text/html": [
       "\n",
       "        <iframe\n",
       "            width=\"500px\"\n",
       "            height=\"500px\"\n",
       "            src=\"asdf.html\"\n",
       "            frameborder=\"0\"\n",
       "            allowfullscreen\n",
       "            \n",
       "        ></iframe>\n",
       "        "
      ],
      "text/plain": [
       "<IPython.lib.display.IFrame at 0x11ccd8dc0>"
      ]
     },
     "execution_count": 313,
     "metadata": {},
     "output_type": "execute_result"
    }
   ],
   "source": [
    "class Agent:\n",
    "    def __init__(self, a_id, graph, start, sink):\n",
    "        self.id = a_id\n",
    "        self.graph = graph\n",
    "        self.start = start\n",
    "        self.sink = sink\n",
    "        self.location = start\n",
    "        \n",
    "    def get_actions(self):\n",
    "        return list(self.graph.edges([self.location], data=True))\n",
    "\n",
    "    def move(self, next_location):\n",
    "        # make the cost dependent, action[2]['weight']*num in timestep function in game\n",
    "        actions = self.get_actions()\n",
    "        for action in actions:\n",
    "            if action[1] == next_location:\n",
    "                self.location = next_location\n",
    "                return 0\n",
    "        return -1\n",
    "\n",
    "\n",
    "class Game:\n",
    "    def __init__(self, num_agents=3, size=8):\n",
    "        self.graph = make_dag(size, 0.4)\n",
    "        longest_path = nx.dag_longest_path(graph)\n",
    "        self.max_time_steps = len(longest_path) \n",
    "        \n",
    "        self.time = 0\n",
    "        self.agents = []\n",
    "        self.sink = n-1 # n-1th node is also sink node since everything leads to it\n",
    "        self.setup_agents(num_agents, self.sink)\n",
    "        self.cost = 0\n",
    "        \n",
    "        self.strategy = self.naive_strategy\n",
    "        \n",
    "    def setup_agents(self, num_agents, sink):\n",
    "        for i in range(num_agents):\n",
    "            self.agents.append(Agent(i, self.graph, random.randint(0, self.sink-1), self.sink))\n",
    "            \n",
    "    def timestep(self):\n",
    "        print(\"timestep start\")\n",
    "        edge_used = defaultdict(int)\n",
    "        moves = {}\n",
    "        for agent in self.agents:\n",
    "            if agent.location == self.sink:\n",
    "                continue\n",
    "            actions = agent.get_actions()\n",
    "            edge = self.strategy(actions)\n",
    "            edge_used[(edge[0], edge[1])] += 1\n",
    "            moves[agent] = edge\n",
    "\n",
    "        for agent, edge in moves.items():\n",
    "            print(\"agent {0} moving from {1} to {2} with weight {3} with {4} others\".format(\n",
    "                agent.id, agent.location, edge[1], edge[2]['weight'], edge_used[(edge[0], edge[1])]))\n",
    "            self.cost += edge_used[(edge[0], edge[1])] * edge[2]['weight']\n",
    "            agent.move(edge[1])\n",
    "            \n",
    "    def play(self):\n",
    "        for i,a in enumerate(self.agents):\n",
    "            print('{0}: {1}', i, a.location)\n",
    "        while(not all([a.location == self.sink for a in self.agents])):\n",
    "            self.timestep()\n",
    "        print(\"cost is \", self.cost)\n",
    "\n",
    "    def naive_strategy(self, actions):\n",
    "        # do LP on start\n",
    "        # think of n by n matrix with each node going to another node\n",
    "        A_ineq = [[1., 1., 0., 0.], [0., 1., 1., 0.], [-1., 1., -1., 1.]]\n",
    "        B_ineq = [450., 300.,0.]\n",
    "        A_eq = [[1., 1., 1., 1.], [0., 0., 1., -0.5]]\n",
    "        B_eq = [700., 0]\n",
    "        c = [0., 0., 1., 1.]  # construct a cost function\n",
    "        res_no_bounds = linprog(c, A_ub=A_ineq, b_ub=B_ineq, A_eq=A_eq, b_eq=B_eq, method='interior-point')\n",
    "        for agent in self.agents:\n",
    "\n",
    "    def random_strategy(self, actions):\n",
    "        return random.choice(actions)\n",
    "            \n",
    "            \n",
    "            \n",
    "game = Game(10, 8)\n",
    "game.play()\n",
    "\n",
    "net = Network(notebook=True, directed=True)\n",
    "net.from_nx(game.graph)\n",
    "net.show('asdf.html')"
   ]
  },
  {
   "cell_type": "code",
   "execution_count": 291,
   "metadata": {},
   "outputs": [
    {
     "data": {
      "text/html": [
       "\n",
       "        <iframe\n",
       "            width=\"500px\"\n",
       "            height=\"500px\"\n",
       "            src=\"asdf.html\"\n",
       "            frameborder=\"0\"\n",
       "            allowfullscreen\n",
       "            \n",
       "        ></iframe>\n",
       "        "
      ],
      "text/plain": [
       "<IPython.lib.display.IFrame at 0x11c746fa0>"
      ]
     },
     "execution_count": 291,
     "metadata": {},
     "output_type": "execute_result"
    }
   ],
   "source": [
    "net = Network(notebook=True, directed=True)\n",
    "net.from_nx(game.graph)\n",
    "net.show('asdf.html')"
   ]
  },
  {
   "cell_type": "code",
   "execution_count": null,
   "metadata": {},
   "outputs": [],
   "source": []
  }
 ],
 "metadata": {
  "kernelspec": {
   "display_name": "ioannis",
   "language": "python",
   "name": "ioannis"
  },
  "language_info": {
   "codemirror_mode": {
    "name": "ipython",
    "version": 3
   },
   "file_extension": ".py",
   "mimetype": "text/x-python",
   "name": "python",
   "nbconvert_exporter": "python",
   "pygments_lexer": "ipython3",
   "version": "3.8.12"
  }
 },
 "nbformat": 4,
 "nbformat_minor": 4
}
